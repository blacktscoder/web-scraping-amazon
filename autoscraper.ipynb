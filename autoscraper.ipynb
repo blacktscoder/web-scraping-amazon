{
 "cells": [
  {
   "cell_type": "code",
   "execution_count": 1,
   "id": "f7bf1348-2c42-477d-80af-4a24a8977328",
   "metadata": {},
   "outputs": [
    {
     "name": "stdout",
     "output_type": "stream",
     "text": [
      "Requirement already satisfied: autoscraper in /Library/Frameworks/Python.framework/Versions/3.9/lib/python3.9/site-packages (1.1.12)\n",
      "Requirement already satisfied: lxml in /Library/Frameworks/Python.framework/Versions/3.9/lib/python3.9/site-packages (from autoscraper) (4.6.4)\n",
      "Requirement already satisfied: requests in /Library/Frameworks/Python.framework/Versions/3.9/lib/python3.9/site-packages (from autoscraper) (2.22.0)\n",
      "Requirement already satisfied: bs4 in /Library/Frameworks/Python.framework/Versions/3.9/lib/python3.9/site-packages (from autoscraper) (0.0.1)\n",
      "Requirement already satisfied: beautifulsoup4 in /Library/Frameworks/Python.framework/Versions/3.9/lib/python3.9/site-packages (from bs4->autoscraper) (4.10.0)\n",
      "Requirement already satisfied: urllib3!=1.25.0,!=1.25.1,<1.26,>=1.21.1 in /Library/Frameworks/Python.framework/Versions/3.9/lib/python3.9/site-packages (from requests->autoscraper) (1.25.11)\n",
      "Requirement already satisfied: certifi>=2017.4.17 in /Library/Frameworks/Python.framework/Versions/3.9/lib/python3.9/site-packages (from requests->autoscraper) (2021.10.8)\n",
      "Requirement already satisfied: idna<2.9,>=2.5 in /Library/Frameworks/Python.framework/Versions/3.9/lib/python3.9/site-packages (from requests->autoscraper) (2.8)\n",
      "Requirement already satisfied: chardet<3.1.0,>=3.0.2 in /Library/Frameworks/Python.framework/Versions/3.9/lib/python3.9/site-packages (from requests->autoscraper) (3.0.4)\n",
      "Requirement already satisfied: soupsieve>1.2 in /Library/Frameworks/Python.framework/Versions/3.9/lib/python3.9/site-packages (from beautifulsoup4->bs4->autoscraper) (2.3.1)\n"
     ]
    }
   ],
   "source": [
    "!pip install autoscraper"
   ]
  },
  {
   "cell_type": "code",
   "execution_count": 3,
   "id": "1e721986-0d11-481f-984c-c85bac4f28a4",
   "metadata": {},
   "outputs": [
    {
     "name": "stdout",
     "output_type": "stream",
     "text": [
      "['Razer Kraken X Ultralight Gaming Headset: 7.1 Surround Sound - Lightweight Aluminum Frame - Bendable Cardioid Microphone - PC', 'Razer BlackShark V2 X Gaming Headset: 7.1 Surround Sound - 50mm Drivers - Memory Foam Cushion - for PC, PS4, PS5, Switch, Xbox One, Xbox Series X|S, Mobile - 3.5mm Audio Jack - Black', 'Razer Kraken X Ultralight Gaming Headset: 7.1 Surround Sound Capable - Lightweight Frame - Integrated Audio Controls - Bendable Cardioid Microphone - for PC, PS4, Nintendo Switch - Mercury White', 'Logitech G733 Lightspeed Wireless Gaming Headset with Suspension Headband, Lightsync RGB, Blue VO!CE mic technology and PRO-G audio drivers - Black', 'Razer Kraken Tournament Edition THX 7.1 Surround Sound Gaming Headset: Retractable Noise Cancelling Mic - USB DAC -  For PC', 'BENGOO G9000 Stereo Gaming Headset for PS4 PC Xbox One PS5 Controller, Noise Cancelling Over Ear Headphones with Mic, LED Light, Bass Surround, Soft Memory Earmuffs for Laptop Mac Nintendo NES Games', 'SteelSeries Arctis 3 - All-Platform Gaming Headset - for PC, PlayStation 4, Xbox One, Nintendo Switch, VR, Android, and iOS - Black', 'HyperX Cloud II - Gaming Headset, 7.1 Surround Sound, Memory Foam Ear Pads, Durable Aluminum Frame, Detachable Microphone, Works with PC, PS5, PS4, Xbox Series X|S, Xbox One – Red', 'BINNUNE Wireless Gaming Headset with Microphone for PC PS4 PS5 Playstation 4 5, 2.4G Wireless Low Latency, Bluetooth Gamer Headphones with Noise Cancelling Mic', 'NUBWO G06 Wireless Gaming Headset with Microphone for PS5, PS4, PC, Mac, 3-in-1 Gamer Headphones wit Mic, 2.4GHz Wireless for Playstation Console, Bluetooth Mode for Switch, Wired Mode for Controller', 'JBL Quantum 100 - Wired Over-Ear Gaming Headphones - Blue', 'Corsair HS60 PRO - 7.1 Virtual Surround Sound Gaming Headset with USB DAC - Works with PC, Xbox Series X, Xbox Series S, Xbox One, PS5, PS4, and Nintendo Switch - Carbon (CA-9011213-NA)', 'Logitech G PRO X Gaming Headset (2nd Generation) with Blue Voice, DTS Headphone 7.1 and 50 mm PRO-G Drivers, for PC, Xbox One, Xbox Series X|S,PS5,PS4, Nintendo Switch - Black', 'Razer Barracuda X Wireless Multi-Platform Gaming and Mobile Headset: 250g Ergonomic Design - Triforce HyperClear Cardioid Mic - On-Headset Controls - 20hrs Battery Life with USB-C Charging', 'Turtle Beach Ear Force Recon 50 Gaming Headset for PlayStation 4, Xbox One, & PC/Mac', 'Logitech G635 DTS, X 7.1 Surround Sound LIGHTSYNC RGB PC Gaming Headset', 'SteelSeries Arctis 1 Wired Gaming Headset – Detachable ClearCast Microphone – Lightweight Steel-Reinforced Headband – For Xbox, PC, PS5, PS4, Nintendo Switch, Mobile', 'SENZER SG500 Surround Sound Pro Gaming Headset with Noise Cancelling Microphone - Detachable Memory Foam Ear Pads - Portable Foldable Headphones for PC, PS4, PS5, Xbox One, Switch', 'Orzly Gaming Headset for PC and Gaming Consoles PS5, PS4, Xbox Series X | S, Xbox ONE, Nintendo Switch & Google Stadia Stereo Sound Headphones with Noise Cancelling mic - Hornet RXH-20 Abyss Edition', 'Donerton Gaming Headset, Over-Ear Gaming Headphones with Noise Canceling Mic, Stereo Bass Surround Sound, LED Light, Soft Memory Earmuffs PS4 Gaming Headset Compatible with PC, Laptop,Tablet', 'Turtle Beach Recon 500 Multiplatform Gaming Headset for Xbox Series X, Xbox Series S, Xbox One, PS5, PS4, PlayStation, Nintendo Switch, Mobile, & PC with 3.5mm - 60mm Dual Drivers, Memory Foam - Black']\n"
     ]
    }
   ],
   "source": [
    "from autoscraper import AutoScraper\n",
    "\n",
    "url = 'https://www.amazon.com/s?k=gaming+headsets'\n",
    "\n",
    "# We can add one or multiple candidates here.\n",
    "# You can also put urls here to retrieve urls.\n",
    "wanted_list = [\"SteelSeries Arctis 3 - All-Platform Gaming Headset - for PC, PlayStation 4, Xbox One, Nintendo Switch, VR, Android, and iOS - Black\",\"51.99\"]\n",
    "\n",
    "scraper = AutoScraper()\n",
    "result = scraper.build(url, wanted_list)\n",
    "print(result)"
   ]
  },
  {
   "cell_type": "code",
   "execution_count": 5,
   "id": "310a8a7d-7cfb-406a-8323-f51cb17a8ed1",
   "metadata": {},
   "outputs": [
    {
     "data": {
      "text/plain": [
       "{'rule_a4is': ['Razer Kraken X Ultralight Gaming Headset: 7.1 Surround Sound - Lightweight Aluminum Frame - Bendable Cardioid Microphone - PC',\n",
       "  'Razer Kraken X Ultralight Gaming Headset: 7.1 Surround Sound Capable - Lightweight Frame - Integrated Audio Controls - Bendable Cardioid Microphone - for PC, PS4, Nintendo Switch - Mercury White',\n",
       "  'Razer BlackShark V2 X Gaming Headset: 7.1 Surround Sound - 50mm Drivers - Memory Foam Cushion - for PC, PS4, PS5, Switch, Xbox One, Xbox Series X|S, Mobile - 3.5mm Audio Jack - Black',\n",
       "  'SteelSeries Arctis 3 - All-Platform Gaming Headset - for PC, PlayStation 4, Xbox One, Nintendo Switch, VR, Android, and iOS - Black',\n",
       "  'BENGOO G9000 Stereo Gaming Headset for PS4 PC Xbox One PS5 Controller, Noise Cancelling Over Ear Headphones with Mic, LED Light, Bass Surround, Soft Memory Earmuffs for Laptop Mac Nintendo NES Games',\n",
       "  'Logitech G733 Lightspeed Wireless Gaming Headset with Suspension Headband, Lightsync RGB, Blue VO!CE mic technology and PRO-G audio drivers - Black',\n",
       "  'Razer Kraken Tournament Edition THX 7.1 Surround Sound Gaming Headset: Retractable Noise Cancelling Mic - USB DAC -  For PC',\n",
       "  'HyperX Cloud II - Gaming Headset, 7.1 Surround Sound, Memory Foam Ear Pads, Durable Aluminum Frame, Detachable Microphone, Works with PC, PS5, PS4, Xbox Series X|S, Xbox One – Red',\n",
       "  'BINNUNE Wireless Gaming Headset with Microphone for PC PS4 PS5 Playstation 4 5, 2.4G Wireless Low Latency, Bluetooth Gamer Headphones with Noise Cancelling Mic',\n",
       "  'Turtle Beach Ear Force Recon 50 Gaming Headset for PlayStation 4, Xbox One, & PC/Mac',\n",
       "  'Turtle Beach Stealth 600 Gen 2 Wireless Gaming Headset for Xbox Series X & Xbox Series S, Xbox One & Windows 10 PCs with 50mm Speakers, 15Hour Battery life, Flip-to-Mute Mic and Spatial Audio - Black  Sep 20, 2020 | by Turtle Beach',\n",
       "  'NUBWO G06 Wireless Gaming Headset with Microphone for PS5, PS4, PC, Mac, 3-in-1 Gamer Headphones wit Mic, 2.4GHz Wireless for Playstation Console, Bluetooth Mode for Switch, Wired Mode for Controller',\n",
       "  'BENGOO V-4 Gaming Headset for Xbox One, PS4, PC, Controller, Noise Cancelling Over Ear Headphones with Mic, LED Light Bass Surround Soft Memory Earmuffs for PS2 Mac Nintendo 64 PS5 Games',\n",
       "  'Corsair HS60 PRO - 7.1 Virtual Surround Sound Gaming Headset with USB DAC - Works with PC, Xbox Series X, Xbox Series S, Xbox One, PS5, PS4, and Nintendo Switch - Carbon (CA-9011213-NA)',\n",
       "  'Logitech G PRO X Gaming Headset (2nd Generation) with Blue Voice, DTS Headphone 7.1 and 50 mm PRO-G Drivers, for PC, Xbox One, Xbox Series X|S,PS5,PS4, Nintendo Switch - Black',\n",
       "  'Logitech G635 DTS, X 7.1 Surround Sound LIGHTSYNC RGB PC Gaming Headset'],\n",
       " 'rule_xqxp': ['SteelSeries Arctis 3 - All-Platform Gaming Headset - for PC, PlayStation 4, Xbox One, Nintendo Switch, VR, Android, and iOS - Black',\n",
       "  'SteelSeries Arctis 1 Wired Gaming Headset – Detachable ClearCast Microphone – Lightweight Steel-Reinforced Headband – For Xbox, PC, PS5, PS4, Nintendo Switch, Mobile',\n",
       "  'SENZER SG500 Surround Sound Pro Gaming Headset with Noise Cancelling Microphone - Detachable Memory Foam Ear Pads - Portable Foldable Headphones for PC, PS4, PS5, Xbox One, Switch',\n",
       "  'Orzly Gaming Headset for PC and Gaming Consoles PS5, PS4, Xbox Series X | S, Xbox ONE, Nintendo Switch & Google Stadia Stereo Sound Headphones with Noise Cancelling mic - Hornet RXH-20 Abyss Edition',\n",
       "  'Donerton Gaming Headset, Over-Ear Gaming Headphones with Noise Canceling Mic, Stereo Bass Surround Sound, LED Light, Soft Memory Earmuffs PS4 Gaming Headset Compatible with PC, Laptop,Tablet',\n",
       "  'Turtle Beach Recon 500 Multiplatform Gaming Headset for Xbox Series X, Xbox Series S, Xbox One, PS5, PS4, PlayStation, Nintendo Switch, Mobile, & PC with 3.5mm - 60mm Dual Drivers, Memory Foam - Black']}"
      ]
     },
     "execution_count": 5,
     "metadata": {},
     "output_type": "execute_result"
    }
   ],
   "source": [
    "scraper.get_result_similar(url,grouped=True)"
   ]
  },
  {
   "cell_type": "code",
   "execution_count": 7,
   "id": "6d0e2e7d-36c4-4884-bdc5-db01092e3e96",
   "metadata": {},
   "outputs": [],
   "source": [
    "scraper.set_rule_aliases({'rule_a4is': 'Title'})\n",
    "scraper.keep_rules(['rule_a4is'])\n",
    "scraper.save('amazon-search')"
   ]
  },
  {
   "cell_type": "code",
   "execution_count": 9,
   "id": "1c6d4307-ea3e-41d3-859a-0405d10f3092",
   "metadata": {},
   "outputs": [
    {
     "data": {
      "text/plain": [
       "{'Title': ['Logitech G502 HERO High Performance Wired Gaming Mouse, HERO 25K Sensor, 25,600 DPI, RGB, Adjustable Weights, 11 Programmable Buttons, On-Board Memory, PC / Mac',\n",
       "  'Razer DeathAdder Essential Gaming Mouse: 6400 DPI Optical Sensor - 5 Programmable Buttons - Mechanical Switches - Rubber Side Grips - White',\n",
       "  'Redragon M602 RGB Wired Gaming Mouse RGB Spectrum Backlit Ergonomic Mouse Griffin Programmable with 7 Backlight Modes up to 7200 DPI for Windows PC Gamers (Black)',\n",
       "  'Razer Basilisk V3 Customizable Ergonomic Gaming Mouse: Fastest Gaming Mouse Switch - Chroma RGB Lighting - 26K DPI Optical Sensor - 11 Programmable Buttons - HyperScroll Tilt Wheel - Classic Black',\n",
       "  'Logitech G305 LIGHTSPEED Wireless Gaming Mouse, Hero 12K Sensor, 12,000 DPI, Lightweight, 6 Programmable Buttons, 250h Battery Life, On-Board Memory, PC/Mac - Black',\n",
       "  'Razer DeathAdder v2 Gaming Mouse: 20K DPI Optical Sensor - Fastest Gaming Mouse Switch - Chroma RGB Lighting - 8 Programmable Buttons - Rubberized Side Grips - Classic Black',\n",
       "  'Razer Basilisk v2 Wired Gaming Mouse: 20K DPI Optical Sensor, Fastest Gaming Mouse Switch, Chroma RGB Lighting, 11 Programmable Buttons, Classic Black',\n",
       "  'Glorious Model O Gaming Mouse, Glossy White (GO-GWHITE)',\n",
       "  'Razer Naga Trinity Gaming Mouse: 16,000 DPI Optical Sensor - Chroma RGB Lighting - Interchangeable Side Plate w/ 2, 7, 12 Button Configurations - Mechanical Switches',\n",
       "  'Razer DeathAdder v2 Mini Gaming Mouse: 8500K DPI Optical Sensor - 62g Lightweight Design - Chroma RGB Lighting - 6 Programmable Buttons - Anti-Slip Grip Tape Included - Classic Black',\n",
       "  'Logitech G502 Lightspeed Wireless Gaming Mouse with Hero 25K Sensor, PowerPlay Compatible, Tunable Weights and Lightsync RGB - Black',\n",
       "  'Logitech G PRO X SUPERLIGHT Wireless Gaming Mouse, Ultra-Lightweight, HERO 25K Sensor, 25,600 DPI, 5 Programmable Buttons, Long Battery Life, Compatible with PC / Mac - Black',\n",
       "  'Razer Orochi V2 Mobile Wireless Gaming Mouse: Ultra Lightweight - 2 Wireless Modes - Up to 950hrs Battery Life - Mechanical Mouse Switches - 5G Advanced 18K DPI Optical Sensor - White',\n",
       "  'Logitech G703 Lightspeed Wireless Gaming Mouse W/Hero 25K Sensor, PowerPlay Compatible, Lightsync RGB, Lightweight 95G+10G Optional, 100-25, 600 DPI, Rubber Side Grips - Black',\n",
       "  'Corsair Scimitar RGB Elite, MOBA/MMO Gaming Mouse, Black, Backlit RGB LED, 18000 DPI, Optical',\n",
       "  'BENGOO KM-1 Wireless Gaming Mouse, Computer Mouse with Honeycomb Shell, 6 Programmed Buttons, 3 Adjustable DPI, Silent Click, USB Receiver, Ergonomic RGB Optical Gamer Mice Mouse for Laptop PC Mac']}"
      ]
     },
     "execution_count": 9,
     "metadata": {},
     "output_type": "execute_result"
    }
   ],
   "source": [
    "scraper.get_result_similar('https://www.amazon.com/s?k=gaming+mouse',group_by_alias=True)"
   ]
  },
  {
   "cell_type": "code",
   "execution_count": 10,
   "id": "278b9b5c-afe5-40c1-910e-443dd623c8d1",
   "metadata": {},
   "outputs": [
    {
     "ename": "NameError",
     "evalue": "name 'df' is not defined",
     "output_type": "error",
     "traceback": [
      "\u001b[0;31m---------------------------------------------------------------------------\u001b[0m",
      "\u001b[0;31mNameError\u001b[0m                                 Traceback (most recent call last)",
      "\u001b[0;32m<ipython-input-10-4b10de3fd9c1>\u001b[0m in \u001b[0;36m<module>\u001b[0;34m\u001b[0m\n\u001b[0;32m----> 1\u001b[0;31m \u001b[0mdf\u001b[0m\u001b[0;34m.\u001b[0m\u001b[0mto_csv\u001b[0m\u001b[0;34m(\u001b[0m\u001b[0mfile_name\u001b[0m\u001b[0;34m,\u001b[0m \u001b[0msep\u001b[0m\u001b[0;34m=\u001b[0m\u001b[0;34m'\\t'\u001b[0m\u001b[0;34m)\u001b[0m\u001b[0;34m\u001b[0m\u001b[0;34m\u001b[0m\u001b[0m\n\u001b[0m",
      "\u001b[0;31mNameError\u001b[0m: name 'df' is not defined"
     ]
    }
   ],
   "source": []
  },
  {
   "cell_type": "code",
   "execution_count": null,
   "id": "f764b026-c814-4d92-9235-92de5e385005",
   "metadata": {},
   "outputs": [],
   "source": []
  }
 ],
 "metadata": {
  "kernelspec": {
   "display_name": "Python 3",
   "language": "python",
   "name": "python3"
  },
  "language_info": {
   "codemirror_mode": {
    "name": "ipython",
    "version": 3
   },
   "file_extension": ".py",
   "mimetype": "text/x-python",
   "name": "python",
   "nbconvert_exporter": "python",
   "pygments_lexer": "ipython3",
   "version": "3.9.7"
  }
 },
 "nbformat": 4,
 "nbformat_minor": 5
}
